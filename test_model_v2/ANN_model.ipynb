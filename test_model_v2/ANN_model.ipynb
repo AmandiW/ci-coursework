{
 "cells": [
  {
   "cell_type": "code",
   "execution_count": 2,
   "id": "initial_id",
   "metadata": {
    "collapsed": true,
    "ExecuteTime": {
     "end_time": "2024-12-16T11:01:51.354232800Z",
     "start_time": "2024-12-16T11:01:51.260070100Z"
    }
   },
   "outputs": [],
   "source": [
    "import numpy as np\n",
    "import pandas as pd\n",
    "import matplotlib.pyplot as plt\n",
    "import seaborn as sns\n",
    "import time\n",
    "from tqdm import tqdm\n",
    "from sklearn.model_selection import train_test_split\n",
    "from sklearn.preprocessing import StandardScaler\n",
    "from sklearn.metrics import (\n",
    "    confusion_matrix,\n",
    "    classification_report,\n",
    "    accuracy_score,\n",
    "    precision_score,\n",
    "    recall_score,\n",
    "    f1_score\n",
    ")\n",
    "import tensorflow as tf\n",
    "from tensorflow.keras.models import Sequential\n",
    "from tensorflow.keras.layers import Dense, Dropout\n",
    "from tensorflow.keras.optimizers import Adam\n",
    "from tensorflow.keras.callbacks import EarlyStopping, Callback"
   ]
  },
  {
   "cell_type": "code",
   "execution_count": 3,
   "outputs": [],
   "source": [
    "# Set random seeds for reproducibility\n",
    "np.random.seed(42)\n",
    "tf.random.set_seed(42)"
   ],
   "metadata": {
    "collapsed": false,
    "ExecuteTime": {
     "end_time": "2024-12-16T11:01:52.280400Z",
     "start_time": "2024-12-16T11:01:52.249061100Z"
    }
   },
   "id": "e8f2de903301de6a"
  },
  {
   "cell_type": "code",
   "execution_count": 4,
   "outputs": [],
   "source": [
    "# Data Loading and Preprocessing \n",
    "def load_and_preprocess_data(filepath):\n",
    "    # Load the dataset\n",
    "    df = pd.read_csv(filepath)\n",
    "\n",
    "    # Separate features and target\n",
    "    X = df.drop('stroke', axis=1)\n",
    "    y = df['stroke']\n",
    "\n",
    "    # Split the data\n",
    "    X_train, X_test, y_train, y_test = train_test_split(\n",
    "        X, y, test_size=0.2, random_state=42, stratify=y\n",
    "    )\n",
    "\n",
    "    # Scale the features\n",
    "    scaler = StandardScaler()\n",
    "    X_train_scaled = scaler.fit_transform(X_train)\n",
    "    X_test_scaled = scaler.transform(X_test)\n",
    "\n",
    "    return X_train_scaled, X_test_scaled, y_train, y_test, scaler\n",
    "\n"
   ],
   "metadata": {
    "collapsed": false,
    "ExecuteTime": {
     "end_time": "2024-12-16T11:01:53.029904Z",
     "start_time": "2024-12-16T11:01:52.991535400Z"
    }
   },
   "id": "382d5b6d13693784"
  },
  {
   "cell_type": "code",
   "execution_count": 5,
   "outputs": [],
   "source": [
    "# Create ANN Model\n",
    "def create_ann_model(input_shape):\n",
    "    model = Sequential([\n",
    "        Dense(64, activation='relu', input_shape=(input_shape,), kernel_regularizer=tf.keras.regularizers.l2(0.001)),\n",
    "        Dropout(0.3),\n",
    "        Dense(32, activation='relu', kernel_regularizer=tf.keras.regularizers.l2(0.001)),\n",
    "        Dropout(0.2),\n",
    "        Dense(16, activation='relu'),\n",
    "        Dense(1, activation='sigmoid')\n",
    "    ])\n",
    "\n",
    "    model.compile(\n",
    "        optimizer=Adam(learning_rate=0.001),\n",
    "        loss='binary_crossentropy',\n",
    "        metrics=['accuracy']\n",
    "    )\n",
    "\n",
    "    return model"
   ],
   "metadata": {
    "collapsed": false,
    "ExecuteTime": {
     "end_time": "2024-12-16T11:02:07.831351300Z",
     "start_time": "2024-12-16T11:02:07.803680200Z"
    }
   },
   "id": "9bfb97416df70e87"
  },
  {
   "cell_type": "code",
   "execution_count": 6,
   "outputs": [],
   "source": [
    "# # Custom Callback to Track Epoch Training Time\n",
    "# class EpochTimeCallback(Callback):\n",
    "#     def __init__(self):\n",
    "#         super().__init__()\n",
    "#         self.epoch_times = []\n",
    "#         self.epoch_start_time = None\n",
    "# \n",
    "#     def on_epoch_begin(self, epoch, logs=None):\n",
    "#         self.epoch_start_time = time.time()\n",
    "# \n",
    "#     def on_epoch_end(self, epoch, logs=None):\n",
    "#         epoch_end_time = time.time()\n",
    "#         self.epoch_times.append(epoch_end_time - self.epoch_start_time)\n",
    "class EpochTimeCallback(Callback):\n",
    "    def __init__(self):\n",
    "        super().__init__()\n",
    "        self.epoch_times = []  # To store the time for each epoch\n",
    "\n",
    "    def on_epoch_begin(self, epoch, logs=None):\n",
    "        self.epoch_start_time = time.time()  # Start time of epoch\n",
    "\n",
    "    def on_epoch_end(self, epoch, logs=None):\n",
    "        epoch_end_time = time.time()  # End time of epoch\n",
    "        epoch_time = epoch_end_time - self.epoch_start_time  # Time taken for the epoch\n",
    "        self.epoch_times.append(epoch_time)  # Store the time for the epoch\n",
    "\n",
    "        # You can also log or update other progress information here if required\n",
    "        print(f\"Epoch {epoch + 1} took {epoch_time:.4f} seconds\")\n"
   ],
   "metadata": {
    "collapsed": false,
    "ExecuteTime": {
     "end_time": "2024-12-16T11:02:09.452849600Z",
     "start_time": "2024-12-16T11:02:09.438822700Z"
    }
   },
   "id": "4e96549fbea1aeb7"
  },
  {
   "cell_type": "code",
   "execution_count": 7,
   "outputs": [],
   "source": [
    "# # Training Function\n",
    "# def train_model(X_train, y_train):\n",
    "#     # Create model\n",
    "#     model = create_ann_model(X_train.shape[1])\n",
    "# \n",
    "#     # Early stopping\n",
    "#     early_stopping = EarlyStopping(\n",
    "#         monitor='val_loss',\n",
    "#         patience=10,\n",
    "#         restore_best_weights=True\n",
    "#     )\n",
    "# \n",
    "#     # Epoch time tracking callback\n",
    "#     epoch_time_callback = EpochTimeCallback()\n",
    "# \n",
    "#     # Train the model with tqdm\n",
    "#     epochs = 50\n",
    "#     progress_bar = tqdm(range(epochs), desc=\"Training Progress\", unit=\"epoch\")\n",
    "# \n",
    "#     history = model.fit(\n",
    "#         X_train, y_train,\n",
    "#         validation_split=0.2,\n",
    "#         epochs=epochs,\n",
    "#         batch_size=32,\n",
    "#         callbacks=[\n",
    "#             early_stopping,\n",
    "#             epoch_time_callback,\n",
    "#             tf.keras.callbacks.LambdaCallback(\n",
    "#                 on_epoch_end=lambda epoch, logs: progress_bar.set_postfix(\n",
    "#                     loss=f\"{logs.get('loss'):.4f}\",\n",
    "#                     val_loss=f\"{logs.get('val_loss'):.4f}\"\n",
    "#                 )\n",
    "#             )\n",
    "#         ],\n",
    "#         verbose=0\n",
    "#     )\n",
    "# \n",
    "#     return model, history, epoch_time_callback\n",
    "\n",
    "def train_model(X_train, y_train):\n",
    "    # Create model\n",
    "    model = create_ann_model(X_train.shape[1])\n",
    "\n",
    "    # Early stopping\n",
    "    early_stopping = EarlyStopping(\n",
    "        monitor='val_loss',\n",
    "        patience=10,\n",
    "        restore_best_weights=True\n",
    "    )\n",
    "\n",
    "    # Epoch time tracking callback\n",
    "    epoch_time_callback = EpochTimeCallback()\n",
    "\n",
    "    # Train the model with tqdm for progress bar visualization\n",
    "    epochs = 5\n",
    "    progress_bar = tqdm(range(epochs), desc=\"Training Progress\", unit=\"epoch\")\n",
    "\n",
    "    history = model.fit(\n",
    "        X_train, y_train,\n",
    "        validation_split=0.2,\n",
    "        epochs=epochs,\n",
    "        batch_size=32,\n",
    "        callbacks=[\n",
    "            early_stopping,\n",
    "            epoch_time_callback,\n",
    "            tf.keras.callbacks.LambdaCallback(\n",
    "                on_epoch_end=lambda epoch, logs: progress_bar.set_postfix(\n",
    "                    loss=f\"{logs.get('loss'):.4f}\",\n",
    "                    val_loss=f\"{logs.get('val_loss'):.4f}\",\n",
    "                    epoch_time=f\"{epoch_time_callback.epoch_times[-1]:.4f}\"  # Display time for current epoch\n",
    "                )\n",
    "            )\n",
    "        ],\n",
    "        verbose=0\n",
    "    )\n",
    "\n",
    "    return model, history, epoch_time_callback\n"
   ],
   "metadata": {
    "collapsed": false,
    "ExecuteTime": {
     "end_time": "2024-12-16T11:02:31.095909900Z",
     "start_time": "2024-12-16T11:02:31.064664800Z"
    }
   },
   "id": "de89f4d91139f8b5"
  },
  {
   "cell_type": "code",
   "execution_count": 11,
   "outputs": [],
   "source": [
    "# # Evaluation Function\n",
    "# def evaluate_model(model, X_test, y_test, history, epoch_time_callback):\n",
    "#     # Start overall timing\n",
    "#     start_time = time.time()\n",
    "# \n",
    "#     # Predictions\n",
    "#     y_pred_proba = model.predict(X_test)\n",
    "#     y_pred = (y_pred_proba > 0.5).astype(int)\n",
    "# \n",
    "#     # Calculate total training time\n",
    "#     total_training_time = time.time() - start_time\n",
    "# \n",
    "#     # Performance Metrics\n",
    "#     accuracy = accuracy_score(y_test, y_pred)\n",
    "#     precision = precision_score(y_test, y_pred)\n",
    "#     recall = recall_score(y_test, y_pred)\n",
    "#     f1 = f1_score(y_test, y_pred)\n",
    "# \n",
    "#     # Detailed Classification Report\n",
    "#     class_report = classification_report(y_test, y_pred)\n",
    "# \n",
    "#     # Visualizations\n",
    "#     plt.figure(figsize=(20, 5))\n",
    "# \n",
    "#     # 1. Loss Curves\n",
    "#     plt.subplot(141)\n",
    "#     plt.plot(history.history['loss'], label='Training Loss')\n",
    "#     plt.plot(history.history['val_loss'], label='Validation Loss')\n",
    "#     plt.title('Model Loss')\n",
    "#     plt.xlabel('Epoch')\n",
    "#     plt.ylabel('Loss')\n",
    "#     plt.legend()\n",
    "# \n",
    "#     # 2. Accuracy Curves\n",
    "#     plt.subplot(142)\n",
    "#     plt.plot(history.history['accuracy'], label='Training Accuracy')\n",
    "#     plt.plot(history.history['val_accuracy'], label='Validation Accuracy')\n",
    "#     plt.title('Model Accuracy')\n",
    "#     plt.xlabel('Epoch')\n",
    "#     plt.ylabel('Accuracy')\n",
    "#     plt.legend()\n",
    "# \n",
    "#     # 3. Confusion Matrix\n",
    "#     plt.subplot(143)\n",
    "#     cm = confusion_matrix(y_test, y_pred)\n",
    "#     sns.heatmap(cm, annot=True, fmt='d', cmap='Blues')\n",
    "#     plt.title('Confusion Matrix')\n",
    "#     plt.ylabel('True Label')\n",
    "#     plt.xlabel('Predicted Label')\n",
    "# \n",
    "#     # 4. Epoch Training Time\n",
    "#     plt.subplot(144)\n",
    "#     plt.plot(epoch_time_callback.epoch_times, color='green')\n",
    "#     plt.title('Time per Epoch')\n",
    "#     plt.xlabel('Epoch')\n",
    "#     plt.ylabel('Time (seconds)')\n",
    "# \n",
    "#     plt.tight_layout()\n",
    "#     plt.show()\n",
    "# \n",
    "#     # Save performance metrics\n",
    "#     performance_metrics = {\n",
    "#         'Accuracy': accuracy,\n",
    "#         'Precision': precision,\n",
    "#         'Recall': recall,\n",
    "#         'F1 Score': f1,\n",
    "#         'Total Training Time (s)': total_training_time,\n",
    "#         'Average Epoch Time (s)': np.mean(epoch_time_callback.epoch_times),\n",
    "#         'Classification Report': class_report,\n",
    "#         'Epoch Times': epoch_time_callback.epoch_times\n",
    "#     }\n",
    "# \n",
    "#     return performance_metrics\n",
    "def evaluate_model(model, X_test, y_test, history, epoch_time_callback):\n",
    "    # Predictions\n",
    "    y_pred_proba = model.predict(X_test)\n",
    "    y_pred = (y_pred_proba > 0.5).astype(int)\n",
    "\n",
    "    # Performance Metrics\n",
    "    accuracy = accuracy_score(y_test, y_pred)\n",
    "    precision = precision_score(y_test, y_pred)\n",
    "    recall = recall_score(y_test, y_pred)\n",
    "    f1 = f1_score(y_test, y_pred)\n",
    "\n",
    "    # Total Training Time (sum of epoch times)\n",
    "    total_training_time = sum(epoch_time_callback.epoch_times)\n",
    "    average_epoch_time = np.mean(epoch_time_callback.epoch_times)\n",
    "\n",
    "    # Detailed Classification Report\n",
    "    class_report = classification_report(y_test, y_pred)\n",
    "\n",
    "    # Visualizations\n",
    "    plt.figure(figsize=(20, 5))\n",
    "\n",
    "    # 1. Loss Curves\n",
    "    plt.subplot(141)\n",
    "    plt.plot(history.history['loss'], label='Training Loss')\n",
    "    plt.plot(history.history['val_loss'], label='Validation Loss')\n",
    "    plt.title('Model Loss')\n",
    "    plt.xlabel('Epoch')\n",
    "    plt.ylabel('Loss')\n",
    "    plt.legend()\n",
    "\n",
    "    # 2. Accuracy Curves\n",
    "    plt.subplot(142)\n",
    "    plt.plot(history.history['accuracy'], label='Training Accuracy')\n",
    "    plt.plot(history.history['val_accuracy'], label='Validation Accuracy')\n",
    "    plt.title('Model Accuracy')\n",
    "    plt.xlabel('Epoch')\n",
    "    plt.ylabel('Accuracy')\n",
    "    plt.legend()\n",
    "\n",
    "    # 3. Confusion Matrix\n",
    "    plt.subplot(143)\n",
    "    cm = confusion_matrix(y_test, y_pred)\n",
    "    sns.heatmap(cm, annot=True, fmt='d', cmap='Blues')\n",
    "    plt.title('Confusion Matrix')\n",
    "    plt.ylabel('True Label')\n",
    "    plt.xlabel('Predicted Label')\n",
    "\n",
    "    # 4. Epoch Training Time\n",
    "    plt.subplot(144)\n",
    "    plt.plot(epoch_time_callback.epoch_times, color='green')\n",
    "    plt.title('Time per Epoch')\n",
    "    plt.xlabel('Epoch')\n",
    "    plt.ylabel('Time (seconds)')\n",
    "\n",
    "    plt.tight_layout()\n",
    "    plt.show()\n",
    "\n",
    "\n",
    "    # Save performance metrics\n",
    "    performance_metrics = {\n",
    "        'Accuracy': accuracy,\n",
    "        'Precision': precision,\n",
    "        'Recall': recall,\n",
    "        'F1 Score': f1,\n",
    "        'Total Training Time (s)': total_training_time,\n",
    "        'Average Epoch Time (s)': average_epoch_time,\n",
    "        'Classification Report': class_report,\n",
    "        'Epoch Times': epoch_time_callback.epoch_times\n",
    "    }\n",
    "\n",
    "    return performance_metrics\n",
    "\n"
   ],
   "metadata": {
    "collapsed": false,
    "ExecuteTime": {
     "end_time": "2024-12-16T11:07:27.764316100Z",
     "start_time": "2024-12-16T11:07:27.681820700Z"
    }
   },
   "id": "272d02e5732b23a7"
  },
  {
   "cell_type": "code",
   "execution_count": 12,
   "outputs": [
    {
     "name": "stderr",
     "output_type": "stream",
     "text": [
      "C:\\Users\\HP\\AppData\\Local\\Programs\\Python\\Python310\\lib\\site-packages\\keras\\src\\layers\\core\\dense.py:87: UserWarning: Do not pass an `input_shape`/`input_dim` argument to a layer. When using Sequential models, prefer using an `Input(shape)` object as the first layer in the model instead.\n",
      "  super().__init__(activity_regularizer=activity_regularizer, **kwargs)\n",
      "Training Progress:   0%|          | 0/50 [00:10<?, ?epoch/s, epoch_time=10.3659, loss=0.5059, val_loss=0.3474]"
     ]
    },
    {
     "name": "stdout",
     "output_type": "stream",
     "text": [
      "Epoch 1 took 10.3659 seconds\n"
     ]
    },
    {
     "name": "stderr",
     "output_type": "stream",
     "text": [
      "Training Progress:   0%|          | 0/50 [00:13<?, ?epoch/s, epoch_time=2.5013, loss=0.3464, val_loss=0.3152] "
     ]
    },
    {
     "name": "stdout",
     "output_type": "stream",
     "text": [
      "Epoch 2 took 2.5013 seconds\n"
     ]
    },
    {
     "name": "stderr",
     "output_type": "stream",
     "text": [
      "Training Progress:   0%|          | 0/50 [00:23<?, ?epoch/s, epoch_time=10.1343, loss=0.3167, val_loss=0.3010]"
     ]
    },
    {
     "name": "stdout",
     "output_type": "stream",
     "text": [
      "Epoch 3 took 10.1343 seconds\n"
     ]
    },
    {
     "name": "stderr",
     "output_type": "stream",
     "text": [
      "Training Progress:   0%|          | 0/50 [00:28<?, ?epoch/s, epoch_time=5.8029, loss=0.2931, val_loss=0.2874] "
     ]
    },
    {
     "name": "stdout",
     "output_type": "stream",
     "text": [
      "Epoch 4 took 5.8029 seconds\n"
     ]
    },
    {
     "name": "stderr",
     "output_type": "stream",
     "text": [
      "Training Progress:   0%|          | 0/50 [00:32<?, ?epoch/s, epoch_time=3.5471, loss=0.2855, val_loss=0.2812]"
     ]
    },
    {
     "name": "stdout",
     "output_type": "stream",
     "text": [
      "Epoch 5 took 3.5471 seconds\n"
     ]
    },
    {
     "name": "stderr",
     "output_type": "stream",
     "text": [
      "Training Progress:   0%|          | 0/50 [00:35<?, ?epoch/s, epoch_time=2.9541, loss=0.2803, val_loss=0.2727]"
     ]
    },
    {
     "name": "stdout",
     "output_type": "stream",
     "text": [
      "Epoch 6 took 2.9541 seconds\n"
     ]
    },
    {
     "name": "stderr",
     "output_type": "stream",
     "text": [
      "Training Progress:   0%|          | 0/50 [00:38<?, ?epoch/s, epoch_time=3.2430, loss=0.2704, val_loss=0.2690]"
     ]
    },
    {
     "name": "stdout",
     "output_type": "stream",
     "text": [
      "Epoch 7 took 3.2430 seconds\n"
     ]
    },
    {
     "name": "stderr",
     "output_type": "stream",
     "text": [
      "Training Progress:   0%|          | 0/50 [00:45<?, ?epoch/s, epoch_time=6.4990, loss=0.2647, val_loss=0.2610]"
     ]
    },
    {
     "name": "stdout",
     "output_type": "stream",
     "text": [
      "Epoch 8 took 6.4990 seconds\n"
     ]
    },
    {
     "name": "stderr",
     "output_type": "stream",
     "text": [
      "Training Progress:   0%|          | 0/50 [00:49<?, ?epoch/s, epoch_time=3.7165, loss=0.2563, val_loss=0.2576]"
     ]
    },
    {
     "name": "stdout",
     "output_type": "stream",
     "text": [
      "Epoch 9 took 3.7165 seconds\n"
     ]
    },
    {
     "name": "stderr",
     "output_type": "stream",
     "text": [
      "Training Progress:   0%|          | 0/50 [00:57<?, ?epoch/s, epoch_time=8.0407, loss=0.2528, val_loss=0.2541]"
     ]
    },
    {
     "name": "stdout",
     "output_type": "stream",
     "text": [
      "Epoch 10 took 8.0407 seconds\n"
     ]
    },
    {
     "name": "stderr",
     "output_type": "stream",
     "text": [
      "Training Progress:   0%|          | 0/50 [01:02<?, ?epoch/s, epoch_time=5.0101, loss=0.2434, val_loss=0.2519]"
     ]
    },
    {
     "name": "stdout",
     "output_type": "stream",
     "text": [
      "Epoch 11 took 5.0101 seconds\n"
     ]
    },
    {
     "name": "stderr",
     "output_type": "stream",
     "text": [
      "Training Progress:   0%|          | 0/50 [01:10<?, ?epoch/s, epoch_time=8.3644, loss=0.2424, val_loss=0.2466]"
     ]
    },
    {
     "name": "stdout",
     "output_type": "stream",
     "text": [
      "Epoch 12 took 8.3644 seconds\n"
     ]
    },
    {
     "name": "stderr",
     "output_type": "stream",
     "text": [
      "Training Progress:   0%|          | 0/50 [01:17<?, ?epoch/s, epoch_time=6.5570, loss=0.2391, val_loss=0.2442]"
     ]
    },
    {
     "name": "stdout",
     "output_type": "stream",
     "text": [
      "Epoch 13 took 6.5570 seconds\n"
     ]
    },
    {
     "name": "stderr",
     "output_type": "stream",
     "text": [
      "Training Progress:   0%|          | 0/50 [01:20<?, ?epoch/s, epoch_time=3.8836, loss=0.2344, val_loss=0.2407]"
     ]
    },
    {
     "name": "stdout",
     "output_type": "stream",
     "text": [
      "Epoch 14 took 3.8836 seconds\n"
     ]
    },
    {
     "name": "stderr",
     "output_type": "stream",
     "text": [
      "Training Progress:   0%|          | 0/50 [01:25<?, ?epoch/s, epoch_time=4.6840, loss=0.2314, val_loss=0.2411]"
     ]
    },
    {
     "name": "stdout",
     "output_type": "stream",
     "text": [
      "Epoch 15 took 4.6840 seconds\n"
     ]
    },
    {
     "name": "stderr",
     "output_type": "stream",
     "text": [
      "Training Progress:   0%|          | 0/50 [01:33<?, ?epoch/s, epoch_time=7.8470, loss=0.2303, val_loss=0.2384]"
     ]
    },
    {
     "name": "stdout",
     "output_type": "stream",
     "text": [
      "Epoch 16 took 7.8470 seconds\n"
     ]
    },
    {
     "name": "stderr",
     "output_type": "stream",
     "text": [
      "Training Progress:   0%|          | 0/50 [01:36<?, ?epoch/s, epoch_time=3.3625, loss=0.2251, val_loss=0.2342]"
     ]
    },
    {
     "name": "stdout",
     "output_type": "stream",
     "text": [
      "Epoch 17 took 3.3625 seconds\n"
     ]
    },
    {
     "name": "stderr",
     "output_type": "stream",
     "text": [
      "Training Progress:   0%|          | 0/50 [01:42<?, ?epoch/s, epoch_time=5.8979, loss=0.2234, val_loss=0.2351]"
     ]
    },
    {
     "name": "stdout",
     "output_type": "stream",
     "text": [
      "Epoch 18 took 5.8979 seconds\n"
     ]
    },
    {
     "name": "stderr",
     "output_type": "stream",
     "text": [
      "Training Progress:   0%|          | 0/50 [01:53<?, ?epoch/s, epoch_time=10.4223, loss=0.2165, val_loss=0.2357]"
     ]
    },
    {
     "name": "stdout",
     "output_type": "stream",
     "text": [
      "Epoch 19 took 10.4223 seconds\n"
     ]
    },
    {
     "name": "stderr",
     "output_type": "stream",
     "text": [
      "Training Progress:   0%|          | 0/50 [01:59<?, ?epoch/s, epoch_time=5.6878, loss=0.2207, val_loss=0.2309] "
     ]
    },
    {
     "name": "stdout",
     "output_type": "stream",
     "text": [
      "Epoch 20 took 5.6878 seconds\n"
     ]
    },
    {
     "name": "stderr",
     "output_type": "stream",
     "text": [
      "Training Progress:   0%|          | 0/50 [02:08<?, ?epoch/s, epoch_time=9.2641, loss=0.2202, val_loss=0.2290]"
     ]
    },
    {
     "name": "stdout",
     "output_type": "stream",
     "text": [
      "Epoch 21 took 9.2641 seconds\n"
     ]
    },
    {
     "name": "stderr",
     "output_type": "stream",
     "text": [
      "Training Progress:   0%|          | 0/50 [02:12<?, ?epoch/s, epoch_time=4.3135, loss=0.2150, val_loss=0.2306]"
     ]
    },
    {
     "name": "stdout",
     "output_type": "stream",
     "text": [
      "Epoch 22 took 4.3135 seconds\n"
     ]
    },
    {
     "name": "stderr",
     "output_type": "stream",
     "text": [
      "Training Progress:   0%|          | 0/50 [02:24<?, ?epoch/s, epoch_time=12.2724, loss=0.2131, val_loss=0.2288]"
     ]
    },
    {
     "name": "stdout",
     "output_type": "stream",
     "text": [
      "Epoch 23 took 12.2724 seconds\n"
     ]
    },
    {
     "name": "stderr",
     "output_type": "stream",
     "text": [
      "Training Progress:   0%|          | 0/50 [02:29<?, ?epoch/s, epoch_time=4.8945, loss=0.2116, val_loss=0.2246] "
     ]
    },
    {
     "name": "stdout",
     "output_type": "stream",
     "text": [
      "Epoch 24 took 4.8945 seconds\n"
     ]
    },
    {
     "name": "stderr",
     "output_type": "stream",
     "text": [
      "Training Progress:   0%|          | 0/50 [02:35<?, ?epoch/s, epoch_time=5.8227, loss=0.2102, val_loss=0.2268]"
     ]
    },
    {
     "name": "stdout",
     "output_type": "stream",
     "text": [
      "Epoch 25 took 5.8227 seconds\n"
     ]
    },
    {
     "name": "stderr",
     "output_type": "stream",
     "text": [
      "Training Progress:   0%|          | 0/50 [02:40<?, ?epoch/s, epoch_time=4.7975, loss=0.2061, val_loss=0.2250]"
     ]
    },
    {
     "name": "stdout",
     "output_type": "stream",
     "text": [
      "Epoch 26 took 4.7975 seconds\n"
     ]
    },
    {
     "name": "stderr",
     "output_type": "stream",
     "text": [
      "Training Progress:   0%|          | 0/50 [02:45<?, ?epoch/s, epoch_time=4.5429, loss=0.2062, val_loss=0.2241]"
     ]
    },
    {
     "name": "stdout",
     "output_type": "stream",
     "text": [
      "Epoch 27 took 4.5429 seconds\n"
     ]
    },
    {
     "name": "stderr",
     "output_type": "stream",
     "text": [
      "Training Progress:   0%|          | 0/50 [02:48<?, ?epoch/s, epoch_time=3.7601, loss=0.2032, val_loss=0.2224]"
     ]
    },
    {
     "name": "stdout",
     "output_type": "stream",
     "text": [
      "Epoch 28 took 3.7601 seconds\n"
     ]
    },
    {
     "name": "stderr",
     "output_type": "stream",
     "text": [
      "Training Progress:   0%|          | 0/50 [02:50<?, ?epoch/s, epoch_time=1.3757, loss=0.2028, val_loss=0.2253]"
     ]
    },
    {
     "name": "stdout",
     "output_type": "stream",
     "text": [
      "Epoch 29 took 1.3757 seconds\n"
     ]
    },
    {
     "name": "stderr",
     "output_type": "stream",
     "text": [
      "Training Progress:   0%|          | 0/50 [02:51<?, ?epoch/s, epoch_time=1.6677, loss=0.2007, val_loss=0.2259]"
     ]
    },
    {
     "name": "stdout",
     "output_type": "stream",
     "text": [
      "Epoch 30 took 1.6677 seconds\n"
     ]
    },
    {
     "name": "stderr",
     "output_type": "stream",
     "text": [
      "Training Progress:   0%|          | 0/50 [02:56<?, ?epoch/s, epoch_time=4.4482, loss=0.2052, val_loss=0.2200]"
     ]
    },
    {
     "name": "stdout",
     "output_type": "stream",
     "text": [
      "Epoch 31 took 4.4482 seconds\n"
     ]
    },
    {
     "name": "stderr",
     "output_type": "stream",
     "text": [
      "Training Progress:   0%|          | 0/50 [03:00<?, ?epoch/s, epoch_time=4.5377, loss=0.2028, val_loss=0.2234]"
     ]
    },
    {
     "name": "stdout",
     "output_type": "stream",
     "text": [
      "Epoch 32 took 4.5377 seconds\n"
     ]
    },
    {
     "name": "stderr",
     "output_type": "stream",
     "text": [
      "Training Progress:   0%|          | 0/50 [03:05<?, ?epoch/s, epoch_time=4.4525, loss=0.2005, val_loss=0.2209]"
     ]
    },
    {
     "name": "stdout",
     "output_type": "stream",
     "text": [
      "Epoch 33 took 4.4525 seconds\n"
     ]
    },
    {
     "name": "stderr",
     "output_type": "stream",
     "text": [
      "Training Progress:   0%|          | 0/50 [03:09<?, ?epoch/s, epoch_time=4.2924, loss=0.2006, val_loss=0.2246]"
     ]
    },
    {
     "name": "stdout",
     "output_type": "stream",
     "text": [
      "Epoch 34 took 4.2924 seconds\n"
     ]
    },
    {
     "name": "stderr",
     "output_type": "stream",
     "text": [
      "Training Progress:   0%|          | 0/50 [03:14<?, ?epoch/s, epoch_time=4.3981, loss=0.1937, val_loss=0.2207]"
     ]
    },
    {
     "name": "stdout",
     "output_type": "stream",
     "text": [
      "Epoch 35 took 4.3981 seconds\n"
     ]
    },
    {
     "name": "stderr",
     "output_type": "stream",
     "text": [
      "Training Progress:   0%|          | 0/50 [03:18<?, ?epoch/s, epoch_time=4.6778, loss=0.1974, val_loss=0.2200]"
     ]
    },
    {
     "name": "stdout",
     "output_type": "stream",
     "text": [
      "Epoch 36 took 4.6778 seconds\n"
     ]
    },
    {
     "name": "stderr",
     "output_type": "stream",
     "text": [
      "Training Progress:   0%|          | 0/50 [03:22<?, ?epoch/s, epoch_time=3.9684, loss=0.2011, val_loss=0.2272]"
     ]
    },
    {
     "name": "stdout",
     "output_type": "stream",
     "text": [
      "Epoch 37 took 3.9684 seconds\n"
     ]
    },
    {
     "name": "stderr",
     "output_type": "stream",
     "text": [
      "Training Progress:   0%|          | 0/50 [03:26<?, ?epoch/s, epoch_time=3.8736, loss=0.1963, val_loss=0.2205]"
     ]
    },
    {
     "name": "stdout",
     "output_type": "stream",
     "text": [
      "Epoch 38 took 3.8736 seconds\n"
     ]
    },
    {
     "name": "stderr",
     "output_type": "stream",
     "text": [
      "Training Progress:   0%|          | 0/50 [03:29<?, ?epoch/s, epoch_time=3.2031, loss=0.1890, val_loss=0.2147]"
     ]
    },
    {
     "name": "stdout",
     "output_type": "stream",
     "text": [
      "Epoch 39 took 3.2031 seconds\n"
     ]
    },
    {
     "name": "stderr",
     "output_type": "stream",
     "text": [
      "Training Progress:   0%|          | 0/50 [03:32<?, ?epoch/s, epoch_time=2.9823, loss=0.1927, val_loss=0.2179]"
     ]
    },
    {
     "name": "stdout",
     "output_type": "stream",
     "text": [
      "Epoch 40 took 2.9823 seconds\n"
     ]
    },
    {
     "name": "stderr",
     "output_type": "stream",
     "text": [
      "Training Progress:   0%|          | 0/50 [03:36<?, ?epoch/s, epoch_time=4.0398, loss=0.1913, val_loss=0.2143]"
     ]
    },
    {
     "name": "stdout",
     "output_type": "stream",
     "text": [
      "Epoch 41 took 4.0398 seconds\n"
     ]
    },
    {
     "name": "stderr",
     "output_type": "stream",
     "text": [
      "Training Progress:   0%|          | 0/50 [03:39<?, ?epoch/s, epoch_time=3.0586, loss=0.1883, val_loss=0.2148]"
     ]
    },
    {
     "name": "stdout",
     "output_type": "stream",
     "text": [
      "Epoch 42 took 3.0586 seconds\n"
     ]
    },
    {
     "name": "stderr",
     "output_type": "stream",
     "text": [
      "Training Progress:   0%|          | 0/50 [03:43<?, ?epoch/s, epoch_time=3.6080, loss=0.1903, val_loss=0.2157]"
     ]
    },
    {
     "name": "stdout",
     "output_type": "stream",
     "text": [
      "Epoch 43 took 3.6080 seconds\n"
     ]
    },
    {
     "name": "stderr",
     "output_type": "stream",
     "text": [
      "Training Progress:   0%|          | 0/50 [03:49<?, ?epoch/s, epoch_time=5.5241, loss=0.1904, val_loss=0.2132]"
     ]
    },
    {
     "name": "stdout",
     "output_type": "stream",
     "text": [
      "Epoch 44 took 5.5241 seconds\n"
     ]
    },
    {
     "name": "stderr",
     "output_type": "stream",
     "text": [
      "Training Progress:   0%|          | 0/50 [03:54<?, ?epoch/s, epoch_time=5.4962, loss=0.1859, val_loss=0.2150]"
     ]
    },
    {
     "name": "stdout",
     "output_type": "stream",
     "text": [
      "Epoch 45 took 5.4962 seconds\n"
     ]
    },
    {
     "name": "stderr",
     "output_type": "stream",
     "text": [
      "Training Progress:   0%|          | 0/50 [03:57<?, ?epoch/s, epoch_time=3.2659, loss=0.1869, val_loss=0.2149]"
     ]
    },
    {
     "name": "stdout",
     "output_type": "stream",
     "text": [
      "Epoch 46 took 3.2659 seconds\n"
     ]
    },
    {
     "name": "stderr",
     "output_type": "stream",
     "text": [
      "Training Progress:   0%|          | 0/50 [04:02<?, ?epoch/s, epoch_time=4.4245, loss=0.1839, val_loss=0.2169]"
     ]
    },
    {
     "name": "stdout",
     "output_type": "stream",
     "text": [
      "Epoch 47 took 4.4245 seconds\n"
     ]
    },
    {
     "name": "stderr",
     "output_type": "stream",
     "text": [
      "Training Progress:   0%|          | 0/50 [04:06<?, ?epoch/s, epoch_time=3.9625, loss=0.1865, val_loss=0.2158]"
     ]
    },
    {
     "name": "stdout",
     "output_type": "stream",
     "text": [
      "Epoch 48 took 3.9625 seconds\n"
     ]
    },
    {
     "name": "stderr",
     "output_type": "stream",
     "text": [
      "Training Progress:   0%|          | 0/50 [04:10<?, ?epoch/s, epoch_time=4.0801, loss=0.1874, val_loss=0.2199]"
     ]
    },
    {
     "name": "stdout",
     "output_type": "stream",
     "text": [
      "Epoch 49 took 4.0801 seconds\n"
     ]
    },
    {
     "name": "stderr",
     "output_type": "stream",
     "text": [
      "Training Progress:   0%|          | 0/50 [04:14<?, ?epoch/s, epoch_time=4.1643, loss=0.1823, val_loss=0.2150]"
     ]
    },
    {
     "name": "stdout",
     "output_type": "stream",
     "text": [
      "Epoch 50 took 4.1643 seconds\n"
     ]
    },
    {
     "name": "stderr",
     "output_type": "stream",
     "text": [
      "Training Progress:   0%|          | 0/50 [04:14<?, ?epoch/s, epoch_time=4.1643, loss=0.1823, val_loss=0.2150]\n"
     ]
    },
    {
     "name": "stdout",
     "output_type": "stream",
     "text": [
      "\u001B[1m59/59\u001B[0m \u001B[32m━━━━━━━━━━━━━━━━━━━━\u001B[0m\u001B[37m\u001B[0m \u001B[1m1s\u001B[0m 13ms/step\n"
     ]
    },
    {
     "data": {
      "text/plain": "<Figure size 2000x500 with 5 Axes>",
      "image/png": "[encoded data removed]"
     },
     "metadata": {},
     "output_type": "display_data"
    },
    {
     "name": "stdout",
     "output_type": "stream",
     "text": [
      "Accuracy: 0.9393617021276596\n",
      "Precision: 0.9450431034482759\n",
      "Recall: 0.9329787234042554\n",
      "F1 Score: 0.9389721627408993\n",
      "Total Training Time (s): 253.6907238960266\n",
      "Average Epoch Time (s): 5.073814477920532\n",
      "Classification Report:               precision    recall  f1-score   support\n",
      "\n",
      "           0       0.93      0.95      0.94       940\n",
      "           1       0.95      0.93      0.94       940\n",
      "\n",
      "    accuracy                           0.94      1880\n",
      "   macro avg       0.94      0.94      0.94      1880\n",
      "weighted avg       0.94      0.94      0.94      1880\n",
      "\n",
      "Epoch Times: [10.365924835205078, 2.5013442039489746, 10.134251594543457, 5.802930593490601, 3.5471208095550537, 2.9541122913360596, 3.242995500564575, 6.499037981033325, 3.7165210247039795, 8.04067873954773, 5.010089159011841, 8.364383935928345, 6.556983947753906, 3.88364315032959, 4.684001922607422, 7.847040176391602, 3.362457036972046, 5.897924184799194, 10.422334432601929, 5.687782526016235, 9.264082670211792, 4.313475847244263, 12.272446870803833, 4.894509315490723, 5.822657108306885, 4.797513246536255, 4.542935132980347, 3.760113477706909, 1.3757131099700928, 1.667691946029663, 4.448164939880371, 4.537665843963623, 4.452451944351196, 4.292372226715088, 4.3981077671051025, 4.677832841873169, 3.9683837890625, 3.8736484050750732, 3.2031078338623047, 2.9822874069213867, 4.039778232574463, 3.0586464405059814, 3.6080002784729004, 5.524055242538452, 5.496237277984619, 3.265892744064331, 4.424536228179932, 3.9625189304351807, 4.080076694488525, 4.164262056350708]\n"
     ]
    }
   ],
   "source": [
    "# Main Execution\n",
    "def main():\n",
    "    filepath = r\"C:\\Users\\HP\\Documents\\GitHub\\ci-coursework\\cleaned-stroke-prediction-dataset-balanced.csv\"\n",
    "\n",
    "    # Load and Preprocess Data\n",
    "    X_train, X_test, y_train, y_test, scaler = load_and_preprocess_data(filepath)\n",
    "\n",
    "    # Train Model\n",
    "    model, history, epoch_time_callback = train_model(X_train, y_train)\n",
    "\n",
    "    # Evaluate Model\n",
    "    performance_metrics = evaluate_model(model, X_test, y_test, history, epoch_time_callback)\n",
    "\n",
    "    # Print Performance Metrics\n",
    "    for metric, value in performance_metrics.items():\n",
    "        print(f\"{metric}: {value}\")\n",
    "\n",
    "\n",
    "# Run the script\n",
    "if __name__ == \"__main__\":\n",
    "    main()"
   ],
   "metadata": {
    "collapsed": false,
    "ExecuteTime": {
     "end_time": "2024-12-16T11:11:50.872248200Z",
     "start_time": "2024-12-16T11:07:28.525549900Z"
    }
   },
   "id": "446a52c9ad697e34"
  },
  {
   "cell_type": "code",
   "execution_count": null,
   "outputs": [],
   "source": [],
   "metadata": {
    "collapsed": false
   },
   "id": "1a1fe58e0347ef9a"
  }
 ],
 "metadata": {
  "kernelspec": {
   "display_name": "Python 3",
   "language": "python",
   "name": "python3"
  },
  "language_info": {
   "codemirror_mode": {
    "name": "ipython",
    "version": 2
   },
   "file_extension": ".py",
   "mimetype": "text/x-python",
   "name": "python",
   "nbconvert_exporter": "python",
   "pygments_lexer": "ipython2",
   "version": "2.7.6"
  }
 },
 "nbformat": 4,
 "nbformat_minor": 5
}
